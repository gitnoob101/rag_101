{
 "cells": [
  {
   "cell_type": "code",
   "execution_count": 1,
   "id": "797e8fb3-fb86-4d88-af53-2e4d781e7b7d",
   "metadata": {},
   "outputs": [
    {
     "ename": "FileNotFoundError",
     "evalue": "[WinError 3] The system cannot find the path specified: './data'",
     "output_type": "error",
     "traceback": [
      "\u001b[1;31m---------------------------------------------------------------------------\u001b[0m",
      "\u001b[1;31mFileNotFoundError\u001b[0m                         Traceback (most recent call last)",
      "Cell \u001b[1;32mIn[1], line 41\u001b[0m\n\u001b[0;32m     38\u001b[0m     \u001b[38;5;28;01mreturn\u001b[39;00m FAISS\u001b[38;5;241m.\u001b[39mfrom_documents(documents, embed_model)\n\u001b[0;32m     40\u001b[0m DATA_DIR \u001b[38;5;241m=\u001b[39m \u001b[38;5;124m\"\u001b[39m\u001b[38;5;124m./data\u001b[39m\u001b[38;5;124m\"\u001b[39m\n\u001b[1;32m---> 41\u001b[0m file_paths \u001b[38;5;241m=\u001b[39m [os\u001b[38;5;241m.\u001b[39mpath\u001b[38;5;241m.\u001b[39mjoin(DATA_DIR, f) \u001b[38;5;28;01mfor\u001b[39;00m f \u001b[38;5;129;01min\u001b[39;00m \u001b[43mos\u001b[49m\u001b[38;5;241;43m.\u001b[39;49m\u001b[43mlistdir\u001b[49m\u001b[43m(\u001b[49m\u001b[43mDATA_DIR\u001b[49m\u001b[43m)\u001b[49m \u001b[38;5;28;01mif\u001b[39;00m f\u001b[38;5;241m.\u001b[39mendswith((\u001b[38;5;124m\"\u001b[39m\u001b[38;5;124m.pdf\u001b[39m\u001b[38;5;124m\"\u001b[39m, \u001b[38;5;124m\"\u001b[39m\u001b[38;5;124m.txt\u001b[39m\u001b[38;5;124m\"\u001b[39m))]\n\u001b[0;32m     43\u001b[0m documents \u001b[38;5;241m=\u001b[39m load_documents(file_paths)\n\u001b[0;32m     44\u001b[0m \u001b[38;5;28;01mif\u001b[39;00m \u001b[38;5;129;01mnot\u001b[39;00m documents:\n",
      "\u001b[1;31mFileNotFoundError\u001b[0m: [WinError 3] The system cannot find the path specified: './data'"
     ]
    }
   ],
   "source": [
    "import os\n",
    "import numpy as np\n",
    "import logging\n",
    "from fastapi import FastAPI, HTTPException\n",
    "from langchain.document_loaders import PyPDFLoader, TextLoader\n",
    "from langchain.text_splitter import RecursiveCharacterTextSplitter\n",
    "from langchain.embeddings import HuggingFaceEmbeddings\n",
    "from langchain.vectorstores import FAISS\n",
    "from langchain.llms import Ollama\n",
    "from langchain.chains import RetrievalQA\n",
    "\n",
    "logging.basicConfig(level=logging.INFO)\n",
    "\n",
    "app = FastAPI(title=\"Multi-Document RAG API\")\n",
    "\n",
    "def load_documents(file_paths):\n",
    "    documents = []\n",
    "    for file in file_paths:\n",
    "        try:\n",
    "            if file.endswith(\".pdf\"):\n",
    "                loader = PyPDFLoader(file)\n",
    "            elif file.endswith(\".txt\"):\n",
    "                loader = TextLoader(file)\n",
    "            else:\n",
    "                logging.warning(f\"Unsupported file format: {file}\")\n",
    "                continue\n",
    "            documents.extend(loader.load())\n",
    "        except Exception as e:\n",
    "            logging.error(f\"Error loading {file}: {e}\")\n",
    "    return documents\n",
    "\n",
    "def process_documents(documents):\n",
    "    splitter = RecursiveCharacterTextSplitter(chunk_size=500, chunk_overlap=50)\n",
    "    return splitter.split_documents(documents)\n",
    "\n",
    "def create_vector_store(documents):\n",
    "    embed_model = HuggingFaceEmbeddings(model_name=\"sentence-transformers/all-MiniLM-L6-v2\")\n",
    "    return FAISS.from_documents(documents, embed_model)\n",
    "#you can upload the document over here \n",
    "DATA_DIR = \"./data\"\n",
    "file_paths = [os.path.join(DATA_DIR, f) for f in os.listdir(DATA_DIR) if f.endswith((\".pdf\", \".txt\"))]\n",
    "\n",
    "documents = load_documents(file_paths)\n",
    "if not documents:\n",
    "    raise RuntimeError(\"No valid documents found!\")\n",
    "\n",
    "chunks = process_documents(documents)\n",
    "vectorstore = create_vector_store(chunks)\n",
    "\n",
    "retriever = vectorstore.as_retriever()\n",
    "llm = Ollama(model=\"llama3.2\")\n",
    "qa_chain = RetrievalQA.from_chain_type(llm, retriever=retriever)\n",
    "\n",
    "@app.get(\"/query/\")\n",
    "def query_rag(question: str):\n",
    "    if not question:\n",
    "        raise HTTPException(status_code=400, detail=\"Query cannot be empty.\")\n",
    "    response = qa_chain.run(question)\n",
    "    return {\"response\": response}\n"
   ]
  },
  {
   "cell_type": "code",
   "execution_count": null,
   "id": "991b6aa2-02d3-46bf-9ef1-dbfa06dad274",
   "metadata": {},
   "outputs": [],
   "source": []
  }
 ],
 "metadata": {
  "kernelspec": {
   "display_name": "Python 3 (ipykernel)",
   "language": "python",
   "name": "python3"
  },
  "language_info": {
   "codemirror_mode": {
    "name": "ipython",
    "version": 3
   },
   "file_extension": ".py",
   "mimetype": "text/x-python",
   "name": "python",
   "nbconvert_exporter": "python",
   "pygments_lexer": "ipython3",
   "version": "3.13.1"
  }
 },
 "nbformat": 4,
 "nbformat_minor": 5
}
